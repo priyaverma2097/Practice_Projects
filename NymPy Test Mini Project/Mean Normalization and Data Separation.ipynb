{
 "cells": [
  {
   "cell_type": "markdown",
   "metadata": {},
   "source": [
    "# Mean Normalization\n",
    "\n",
    "In machine learning we use large amounts of data to train our models. Some machine learning algorithms may require that the data is *normalized* in order to work correctly. The idea of normalization, also known as *feature scaling*, is to ensure that all the data is on a similar scale, *i.e.* that all the data takes on a similar range of values. For example, we might have a dataset that has values between 0 and 5,000. By normalizing the data we can make the range of values be between 0 and 1.\n",
    "\n",
    "In this lab, you will be performing a different kind of feature scaling known as *mean normalization*. Mean normalization will scale the data, but instead of making the values be between 0 and 1, it will distribute the values evenly in some small interval around zero. For example, if we have a dataset that has values between 0 and 5,000, after mean normalization the range of values will be distributed in some small range around 0, for example between -3 to 3. Because the range of values are distributed evenly around zero, this guarantees that the average (mean) of all elements will be zero. Therefore, when you perform *mean normalization* your data will not only be scaled but it will also have an average of zero. \n",
    "\n",
    "# To Do:\n",
    "\n",
    "You will start by importing NumPy and creating a rank 2 ndarray of random integers between 0 and 5,000 (inclusive) with 1000 rows and 20 columns. This array will simulate a dataset with a wide range of values. Fill in the code below"
   ]
  },
  {
   "cell_type": "code",
   "execution_count": 2,
   "metadata": {},
   "outputs": [
    {
     "name": "stdout",
     "output_type": "stream",
     "text": [
      "(1000, 20)\n"
     ]
    }
   ],
   "source": [
    "# import NumPy into Python\n",
    "import numpy as np\n",
    "\n",
    "# Create a 1000 x 20 ndarray with random integers in the half-open interval [0, 5001).\n",
    "X = np.random.randint(0,5001,size = (1000,20))\n",
    "\n",
    "# print the shape of X\n",
    "print(X.shape)"
   ]
  },
  {
   "cell_type": "markdown",
   "metadata": {},
   "source": [
    "Now that you created the array we will mean normalize it. We will perform mean normalization using the following equation:\n",
    "\n",
    "$\\mbox{Norm_Col}_i = \\frac{\\mbox{Col}_i - \\mu_i}{\\sigma_i}$\n",
    "\n",
    "where $\\mbox{Col}_i$ is the $i$th column of $X$, $\\mu_i$ is average of the values in the $i$th column of $X$, and $\\sigma_i$ is the standard deviation of the values in the $i$th column of $X$. In other words, mean normalization is performed by subtracting from each column of $X$ the average of its values, and then by dividing by the standard deviation of its values. In the space below, you will first calculate the average and standard deviation of each column of $X$. "
   ]
  },
  {
   "cell_type": "code",
   "execution_count": 3,
   "metadata": {},
   "outputs": [],
   "source": [
    "# Average of the values in each column of X\n",
    "ave_cols = X.mean(axis = 0)\n",
    "\n",
    "# Standard Deviation of the values in each column of X\n",
    "std_cols = X.std(axis = 0)"
   ]
  },
  {
   "cell_type": "markdown",
   "metadata": {},
   "source": [
    "If you have done the above calculations correctly, then `ave_cols` and `std_cols`, should both be vectors with shape `(20,)` since $X$ has 20 columns. You can verify this by filling the code below:"
   ]
  },
  {
   "cell_type": "code",
   "execution_count": 4,
   "metadata": {},
   "outputs": [
    {
     "name": "stdout",
     "output_type": "stream",
     "text": [
      "(20,)\n",
      "(20,)\n"
     ]
    }
   ],
   "source": [
    "# Print the shape of ave_cols\n",
    "print(ave_cols.shape)\n",
    "\n",
    "# Print the shape of std_cols\n",
    "print(std_cols.shape)"
   ]
  },
  {
   "cell_type": "markdown",
   "metadata": {},
   "source": [
    "You can now take advantage of Broadcasting to calculate the mean normalized version of $X$ in just one line of code using the equation above. Fill in the code below"
   ]
  },
  {
   "cell_type": "code",
   "execution_count": 6,
   "metadata": {},
   "outputs": [
    {
     "name": "stdout",
     "output_type": "stream",
     "text": [
      "[[-0.67085791  0.14211803  0.02775084 ... -0.22125784 -0.08698338\n",
      "   0.66007562]\n",
      " [ 1.72258547  0.25524153 -1.69448529 ... -0.36216551  0.37036332\n",
      "   0.73090914]\n",
      " [ 1.74783868 -0.03245527 -1.25044912 ...  0.45886584  0.74157297\n",
      "  -0.9095952 ]\n",
      " ...\n",
      " [-0.82237718  0.7712802   0.81509932 ...  0.26843121 -1.63266482\n",
      "   1.28907728]\n",
      " [ 0.1372449  -1.19162198 -1.45828074 ... -0.30845318  0.45171498\n",
      "   0.77553426]\n",
      " [ 1.16771627 -1.37946285  1.43717555 ...  0.96808665 -1.66547893\n",
      "  -1.34876302]]\n",
      "(1000, 20)\n"
     ]
    }
   ],
   "source": [
    "# Mean normalize X\n",
    "X_norm = (X-ave_cols)/std_cols\n",
    "print(X_norm)\n",
    "print(X_norm.shape)"
   ]
  },
  {
   "cell_type": "markdown",
   "metadata": {},
   "source": [
    "If you have performed the mean normalization correctly, then the average of all the elements in $X_{\\tiny{\\mbox{norm}}}$ should be close to zero, and they should be evenly distributed in some small interval around zero. You can verify this by filing the code below:"
   ]
  },
  {
   "cell_type": "code",
   "execution_count": 12,
   "metadata": {},
   "outputs": [
    {
     "name": "stdout",
     "output_type": "stream",
     "text": [
      "-2.9309887850104133e-18\n",
      "-1.727260490001239\n",
      "1.7317037546244094\n"
     ]
    }
   ],
   "source": [
    "# Print the average of all the values of X_norm\n",
    "print(X_norm.mean())\n",
    "\n",
    "# Print the average of the minimum value in each column of X_norm\n",
    "print(X_norm.min(axis = 0).mean())\n",
    "\n",
    "# Print the average of the maximum value in each column of X_norm\n",
    "print(X_norm.max(axis = 0).mean())"
   ]
  },
  {
   "cell_type": "markdown",
   "metadata": {},
   "source": [
    "You should note that since $X$ was created using random integers, the above values will vary. \n",
    "\n",
    "# Data Separation\n",
    "\n",
    "After the data has been mean normalized, it is customary in machine learnig to split our dataset into three sets:\n",
    "\n",
    "1. A Training Set\n",
    "2. A Cross Validation Set\n",
    "3. A Test Set\n",
    "\n",
    "The dataset is usually divided such that the Training Set contains 60% of the data, the Cross Validation Set contains 20% of the data, and the Test Set contains 20% of the data. \n",
    "\n",
    "In this part of the lab you will separate `X_norm` into a Training Set, Cross Validation Set, and a Test Set. Each data set will contain rows of `X_norm` chosen at random, making sure that we don't pick the same row twice. This will guarantee that all the rows of `X_norm` are chosen and randomly distributed among the three new sets.\n",
    "\n",
    "You will start by creating a rank 1 ndarray that contains a random permutation of the row indices of `X_norm`. You can do this by using the `np.random.permutation()` function. The `np.random.permutation(N)` function creates a random permutation of integers from 0 to `N - 1`. Let's see an example:"
   ]
  },
  {
   "cell_type": "code",
   "execution_count": 18,
   "metadata": {},
   "outputs": [
    {
     "data": {
      "text/plain": [
       "array([4, 2, 3, 0, 1])"
      ]
     },
     "execution_count": 18,
     "metadata": {},
     "output_type": "execute_result"
    }
   ],
   "source": [
    "# We create a random permutation of integers 0 to 4\n",
    "np.random.permutation(5)"
   ]
  },
  {
   "cell_type": "markdown",
   "metadata": {},
   "source": [
    "# To Do\n",
    "\n",
    "In the space below create a rank 1 ndarray that contains a random permutation of the row indices of `X_norm`. You can do this in one line of code by extracting the number of rows of `X_norm` using the `shape` attribute and then passing it to the  `np.random.permutation()` function. Remember the `shape` attribute returns a tuple with two numbers in the form `(rows,columns)`."
   ]
  },
  {
   "cell_type": "code",
   "execution_count": 8,
   "metadata": {},
   "outputs": [
    {
     "name": "stdout",
     "output_type": "stream",
     "text": [
      "1000\n",
      "[121 743 104 244 519 945 903  84 218 919 303 472 854 767 135 627 537 797\n",
      " 861 160 495 294 885 479 731 165 388 674 432 159 352 642 917  26 607 136\n",
      " 234 263 377 425 867 911 618 405 532 774 552 889  87 430 459 542 163 534\n",
      " 171 545 439 983 306 963 834 373 522 944 927 747 335 232 212 375 702 553\n",
      " 870 906 140 346 871 428 600 546 688 611 667 370 243 630 726 585 800 134\n",
      " 565 901 795 426 309 434 502 701 869  58 663 224 295 465 278 808 593 470\n",
      " 414 133 695 868 445 918 937  94 895 206 907 931 673 679 267 746 855 287\n",
      " 714 316 321  46 987 745 886 372 912 559 891  25 378 961 528 155 744 999\n",
      " 978 408 233 164 756 178 962 320 994 280 235 326  18 849 897 366 838 842\n",
      " 621 448 484  14 483 677 284 441  90 128 990 301 239 183 507 729 734 858\n",
      " 984 407 976 319 789 965  56 646 598 313 318 139 518 148 916 420 771 873\n",
      " 972 960 449 801 594 411 101 996 496 551 221 557 291 505 665  79 969 386\n",
      " 184 141  41 811 954  11 300 108 998 709 226 574 635 269 391 737 297  28\n",
      " 456 404 468 893 360 953 942 620 751 583  82 938  50 199 971  43 258 180\n",
      " 225 331 379 778 332 770 936 796 773 920 566 809 501 571  89 187  65 829\n",
      " 905 794 413 943 716 833 909 293 282  66  80 785 241 841  32 739 581 210\n",
      " 548 860  12 498 524  83 813 952 416  88 403 836 381 455 788 419 387 513\n",
      " 158 260 610  63 344 167 623 100 606 626 706 219 975 832 292 830 323 835\n",
      " 930   4 874 538 214 589 286 336 152 586 915 825  98 617 776 220 768 324\n",
      " 822 763 762 643 556 259 356 112 477 759 699 289 127 878  39 110 337 175\n",
      " 245 154 461 246 572 342 102 228 415  77 898 145 541 793 649 727 240 596\n",
      " 582 704 422 851 974 131 657 302 879 632 843 671 894 217 876 270 758 968\n",
      " 433 255  27 877 149 613 227 153 652 821 478 560 802 827 616 230 193 353\n",
      " 723 668 692 681 554  78 863 279 424 357 619 195  68 676 490 865 120 126\n",
      " 526 200 395 137 487 708 185  86 783 186 923 896 529 311 130  29   2 672\n",
      "  10 251 790 588  54  76 392 715 272 111 492 503  91 402 761 380  24 536\n",
      "  38 156 904 431 805 648  64 475 584  47 103 862 275 451 828 333 249 114\n",
      " 949 605 494 724   6 340 213 463 190 161 315 384  35 887 636 609 109  85\n",
      " 209 720 995 151   3 354 499 872 466 201 892 792 194 645 787 355 757 169\n",
      " 951 485 651 261 174 939 248 662 207 394 509 948 329 959 988 368 358 884\n",
      " 514 721 741 290 371  20 157 993 162 660 710 991  96 940 389 256 569 603\n",
      " 845 390 288 932 929 334 777   1  37  15 590 935   8 922 417 281   9 629\n",
      " 856 866 979  75 147 644 579 980 625 711 172 986 686 760 442 166 211  40\n",
      " 957 400 925 453 718 338 310 296 900 840 385  57 476 266 222 236 305 848\n",
      " 819 958 997 810 881 712 345 469 846 204 683 192 601 755 853  71  21 458\n",
      " 890 216 981 786 508 208 179 314 580 791 543  51 784 231 497 488  72 215\n",
      " 591 525 396 654 647 666 181 237 253 602 992 198 481 705 678 964 902  73\n",
      " 568 576  16 197 376 298 913 440 650 736 446 815 941 696 418 427 612 772\n",
      " 264 864 973 533 956 622 473 661 471 369 738 888 564 229 547 467 328 837\n",
      " 804 766 597 882 924 539 732 859 322 168 693  62 814 540 274 852  97 659\n",
      " 730 124 680  52 457 299 271  69 523 480 359 367 850 182 277 347 637 401\n",
      "  42 205 443 694 847 857 752 985 928 934 365 624 750 561 812 691 436 325\n",
      " 516 608 725 307 115 517 406 806 361 341 640 883 521 880 989 690 765 383\n",
      " 614 820 343 435 531 685 106 684 641 438 143  48 719  23 658  67 656 460\n",
      " 285 816 393 265 399 254 555  93 653 203  22  74 703 604 549 252 966 437\n",
      " 349 799 781  45 327 113 970  95 350 486 382 818  99 454 223 173 823 374\n",
      " 764 698 304  13 977 268 119 634 176 510 450 339 914 397 273 138  19 544\n",
      " 950 669  33 550 875 462 144 362 599  60 474 742  70 262 238 575 398 116\n",
      " 749  61 125 444 247 118 170 276  92 670 308 707 562  59 769 655 482 202\n",
      "  30 242 803 700 527 129 717 697 779 638 782 689 908 123 409 687 639  55\n",
      " 257 150 105 807 839 506 364 493 558 447 775 682 753 675 831 429 735 826\n",
      " 146 628 798 570 504 946 283 491 489 982 921 530 817 578 142 664   7   5\n",
      " 573 567 748 363  49 563 535 189 452 122 577 933  36 196  53 587 910   0\n",
      "  17 348 926 754 188 595 423 592 250 722  31 107 410 947 191 351 733 464\n",
      " 330 967 899 615 177 780 317 520 631 117  81 633 728 955 412 511 312 512\n",
      " 713 824 515 132 740 844 421  34  44 500]\n"
     ]
    }
   ],
   "source": [
    "# Create a rank 1 ndarray that contains a random permutation of the row indices of `X_norm`\n",
    "print(X_norm.shape[0])\n",
    "row_indices = np.random.permutation(X_norm.shape[0])\n",
    "print(row_indices)"
   ]
  },
  {
   "cell_type": "markdown",
   "metadata": {},
   "source": [
    "Now you can create the three datasets using the `row_indices` ndarray to select the rows that will go into each dataset. Rememeber that the Training Set contains 60% of the data, the Cross Validation Set contains 20% of the data, and the Test Set contains 20% of the data. Each set requires just one line of code to create. Fill in the code below"
   ]
  },
  {
   "cell_type": "code",
   "execution_count": 10,
   "metadata": {},
   "outputs": [
    {
     "name": "stdout",
     "output_type": "stream",
     "text": [
      "(600, 20)\n",
      "[[-0.67085791  0.14211803  0.02775084 ... -0.22125784 -0.08698338\n",
      "   0.66007562]\n",
      " [ 1.72258547  0.25524153 -1.69448529 ... -0.36216551  0.37036332\n",
      "   0.73090914]\n",
      " [ 1.74783868 -0.03245527 -1.25044912 ...  0.45886584  0.74157297\n",
      "  -0.9095952 ]\n",
      " ...\n",
      " [-0.38044596 -0.68605771 -0.09354338 ... -1.08065514  0.26098295\n",
      "   0.22090779]\n",
      " [-0.23523999  0.15468731  0.15471965 ... -0.70815663 -0.03092593\n",
      "   0.73161748]\n",
      " [-1.31972518 -1.69020333 -0.84046045 ... -1.52500261 -0.36521971\n",
      "  -0.34788538]]\n"
     ]
    }
   ],
   "source": [
    "# Make any necessary calculations.\n",
    "# You can save your calculations into variables to use later.\n",
    "\n",
    "\n",
    "# Create a Training Set\n",
    "X_train = X_norm[row_indices[:600],:]\n",
    "print(X_train.shape)\n",
    "X_Train = X_norm[:600,:]\n",
    "print(X_Train)\n",
    "\n",
    "# Create a Cross Validation Set\n",
    "X_crossVal = X_norm[row_indices[600:800],:]\n",
    "\n",
    "# Create a Test Set\n",
    "X_test = row_indices[800:]"
   ]
  },
  {
   "cell_type": "code",
   "execution_count": 24,
   "metadata": {},
   "outputs": [
    {
     "data": {
      "text/plain": [
       "600"
      ]
     },
     "execution_count": 24,
     "metadata": {},
     "output_type": "execute_result"
    }
   ],
   "source": [
    "len(X_train)"
   ]
  },
  {
   "cell_type": "code",
   "execution_count": null,
   "metadata": {},
   "outputs": [],
   "source": [
    "# np.random.randint()"
   ]
  },
  {
   "cell_type": "markdown",
   "metadata": {},
   "source": [
    "If you performed the above calculations correctly, then `X_tain` should have 600 rows and 20 columns, `X_crossVal` should have 200 rows and 20 columns, and `X_test` should have 200 rows and 20 columns. You can verify this by filling the code below:"
   ]
  },
  {
   "cell_type": "code",
   "execution_count": null,
   "metadata": {},
   "outputs": [],
   "source": [
    "# Print the shape of X_train\n",
    "\n",
    "\n",
    "\n",
    "# Print the shape of X_crossVal\n",
    "\n",
    "\n",
    "# Print the shape of X_test\n"
   ]
  },
  {
   "cell_type": "code",
   "execution_count": null,
   "metadata": {},
   "outputs": [],
   "source": []
  }
 ],
 "metadata": {
  "kernelspec": {
   "display_name": "Python 3 (ipykernel)",
   "language": "python",
   "name": "python3"
  },
  "language_info": {
   "codemirror_mode": {
    "name": "ipython",
    "version": 3
   },
   "file_extension": ".py",
   "mimetype": "text/x-python",
   "name": "python",
   "nbconvert_exporter": "python",
   "pygments_lexer": "ipython3",
   "version": "3.10.5"
  }
 },
 "nbformat": 4,
 "nbformat_minor": 2
}
